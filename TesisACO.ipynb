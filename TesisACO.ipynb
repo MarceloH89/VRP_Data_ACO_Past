{
  "nbformat": 4,
  "nbformat_minor": 0,
  "metadata": {
    "colab": {
      "provenance": [],
      "collapsed_sections": []
    },
    "kernelspec": {
      "name": "python3",
      "display_name": "Python 3"
    },
    "language_info": {
      "name": "python"
    }
  },
  "cells": [
    {
      "cell_type": "code",
      "metadata": {
        "id": "hQgG2nEQReKU",
        "outputId": "1342fe52-3df5-4132-b101-b0c73f46d59e",
        "colab": {
          "base_uri": "https://localhost:8080/"
        }
      },
      "source": [
        "!git clone https://github.com/Marcelo7089/VRP_Data_ACO.git"
      ],
      "execution_count": null,
      "outputs": [
        {
          "output_type": "stream",
          "name": "stdout",
          "text": [
            "Cloning into 'VRP_DATA'...\n",
            "remote: Enumerating objects: 15, done.\u001b[K\n",
            "remote: Counting objects: 100% (15/15), done.\u001b[K\n",
            "remote: Compressing objects: 100% (12/12), done.\u001b[K\n",
            "remote: Total 15 (delta 2), reused 0 (delta 0), pack-reused 0\u001b[K\n",
            "Unpacking objects: 100% (15/15), done.\n"
          ]
        }
      ]
    },
    {
      "cell_type": "code",
      "source": [
        "import random as rn\n",
        "import numpy as np\n",
        "from numpy.random import choice as np_choice\n",
        "from math import sqrt\n",
        "import matplotlib.pyplot as plt\n",
        "import json\n",
        "\n",
        "class AntColony(object):\n",
        "\n",
        "    def __init__(self, distances, n_ants, n_best, n_iterations, decay, alpha=1, beta=1):\n",
        "        \"\"\"\n",
        "        Args:\n",
        "            distances (2D numpy.array): Square matrix of distances. Diagonal is assumed to be np.inf.\n",
        "            n_ants (int): Number of ants running per iteration\n",
        "            n_best (int): Number of best ants who deposit pheromone\n",
        "            n_iteration (int): Number of iterations\n",
        "            decay (float): Rate it which pheromone decays. The pheromone value is multiplied by decay, so 0.95 will lead to decay, 0.5 to much faster decay.\n",
        "            alpha (int or float): exponenet on pheromone, higher alpha gives pheromone more weight. Default=1\n",
        "            beta (int or float): exponent on distance, higher beta give distance more weight. Default=1\n",
        "        Example:\n",
        "            ant_colony = AntColony(distances, 100, 20, 2000, 0.95, alpha=1, beta=2)          \n",
        "        \"\"\"\n",
        "        self.distances  = distances\n",
        "        self.pheromone = np.ones(self.distances.shape) / len(distances)\n",
        "        self.all_inds = range(len(distances))\n",
        "        self.n_ants = n_ants\n",
        "        self.n_best = n_best\n",
        "        self.n_iterations = n_iterations\n",
        "        self.decay = decay\n",
        "        self.alpha = alpha\n",
        "        self.beta = beta\n",
        "\n",
        "    def run(self):\n",
        "        distance_logs=[]\n",
        "        shortest_path = None\n",
        "        all_time_shortest_path = (\"placeholder\", np.inf)\n",
        "        for i in range(self.n_iterations):\n",
        "            all_paths = self.gen_all_paths()\n",
        "            self.spread_pheronome(all_paths, self.n_best, shortest_path=shortest_path)\n",
        "            shortest_path = min(all_paths, key=lambda x: x[1])\n",
        "            if shortest_path[1] < all_time_shortest_path[1]:\n",
        "                all_time_shortest_path = shortest_path\n",
        "            distance_logs.append(all_time_shortest_path[1])                      \n",
        "        return all_time_shortest_path,distance_logs\n",
        "\n",
        "    def spread_pheronome(self, all_paths, n_best, shortest_path):\n",
        "        sorted_paths = sorted(all_paths, key=lambda x: x[1])\n",
        "        for path, dist in sorted_paths[:n_best]:\n",
        "            for move in path:\n",
        "                self.pheromone[move] += 1.0 / self.distances[move]\n",
        "\n",
        "    def gen_path_dist(self, path):\n",
        "        total_dist = 0\n",
        "        for ele in path:\n",
        "            total_dist += self.distances[ele]\n",
        "        return total_dist\n",
        "\n",
        "    def gen_all_paths(self):\n",
        "        all_paths = []\n",
        "        for i in range(self.n_ants):\n",
        "            path = self.gen_path(0)\n",
        "            all_paths.append((path, self.gen_path_dist(path)))\n",
        "        return all_paths\n",
        "\n",
        "    def gen_path(self, start):\n",
        "        path = []\n",
        "        visited = set()\n",
        "        visited.add(start)\n",
        "        prev = start\n",
        "        for i in range(len(self.distances) - 1):\n",
        "            move = self.pick_move(self.pheromone[prev], self.distances[prev], visited)\n",
        "            path.append((prev, move))\n",
        "            prev = move\n",
        "            visited.add(move)\n",
        "        path.append((prev, start)) # going back to where we started    \n",
        "        return path\n",
        "\n",
        "    def pick_move(self, pheromone, dist, visited):\n",
        "        pheromone = np.copy(pheromone)\n",
        "        pheromone[list(visited)] = 0\n",
        "\n",
        "        row = (pheromone ** self.alpha) * (( 1.0 / dist) ** self.beta)\n",
        "\n",
        "        norm_row = row / row.sum()\n",
        "        move = np_choice(self.all_inds, 1, p=norm_row)[0]\n",
        "        return move\n",
        "\n",
        "\n",
        "#Static TSP Instance\n",
        "# distances = np.array([[np.inf, 2, 2, 5, 7],\n",
        "#                       [2, np.inf, 4, 8, 2],\n",
        "#                       [2, 4, np.inf, 1, 3],\n",
        "#                       [5, 8, 1, np.inf, 2],\n",
        "#                       [7, 2, 3, 2, np.inf]])\n",
        "\n",
        "\n",
        "#Dinamic TSP Instance, changing the value of n_nodes will change the\n",
        "#Instance size\n",
        "# n_nodes=100\n",
        "# dist=lambda x,y: sqrt(((x[0]-y[0])**2)+((x[1]-y[1])**2))\n",
        "# l=[(rn.random()*1000,rn.random()*1000) for i in range(n_nodes)]\n",
        "# distances=np.array([[np.inf if i==j else dist(l[i],l[j]) for i in range(len(l))] for j in range(len(l))])\n",
        "\n",
        "\n",
        "#Presolved TSP Instance\n",
        "with open(\"VRP_DATA/Example2.json\", \"r\") as tsp_data:\n",
        "    tsp = json.load(tsp_data)\n",
        "\n",
        "distances = tsp[\"DistanceMatrix\"]\n",
        "tour_size=tsp[\"TourSize\"]\n",
        "for i in range(tour_size):\n",
        "  distances[i][i]=np.inf\n",
        "distances=np.array(distances)\n",
        "\n",
        "\n",
        "\n",
        "\n",
        "ant_colony = AntColony(distances, 50, 50, 150, 0.7, alpha=1, beta=1)\n",
        "shortest_path,log = ant_colony.run()\n",
        "print (\"shortest_path: {}\".format(shortest_path))\n",
        "plt.plot(log)\n",
        "plt.show()"
      ],
      "metadata": {
        "id": "B1tBRmUnFtlH",
        "colab": {
          "base_uri": "https://localhost:8080/",
          "height": 305
        },
        "outputId": "59ba9fd6-94a5-4dc1-bace-88621dcf33ba"
      },
      "execution_count": null,
      "outputs": [
        {
          "output_type": "stream",
          "name": "stdout",
          "text": [
            "shortest_path: ([(0, 11), (11, 3), (3, 22), (22, 8), (8, 12), (12, 13), (13, 19), (19, 1), (1, 14), (14, 18), (18, 17), (17, 21), (21, 16), (16, 9), (9, 4), (4, 23), (23, 5), (5, 7), (7, 20), (20, 6), (6, 2), (2, 10), (10, 15), (15, 0)], 1290.0)\n"
          ]
        },
        {
          "output_type": "display_data",
          "data": {
            "text/plain": [
              "<Figure size 432x288 with 1 Axes>"
            ],
            "image/png": "[encoded data removed]"
          },
          "metadata": {
            "needs_background": "light"
          }
        }
      ]
    }
  ]
}